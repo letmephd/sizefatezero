{
 "cells": [
  {
   "cell_type": "code",
   "execution_count": null,
   "metadata": {},
   "outputs": [],
   "source": [
    "P2pDDIMSpatioTemporalPipeline"
   ]
  },
  {
   "cell_type": "markdown",
   "metadata": {},
   "source": [
    "P2pDDIMSpatioTemporalPipeline {\n",
    "  \"_class_name\": \"P2pDDIMSpatioTemporalPipeline\",\n",
    "  \"_diffusers_version\": \"0.11.1\",\n",
    "  \"scheduler\": [\n",
    "    \"diffusers\",\n",
    "    \"DDIMScheduler\"\n",
    "  ],\n",
    "  \"text_encoder\": [\n",
    "    \"transformers\",\n",
    "    \"CLIPTextModel\"\n",
    "  ],\n",
    "  \"tokenizer\": [\n",
    "    \"transformers\",\n",
    "    \"CLIPTokenizer\"\n",
    "  ],\n",
    "  \"unet\": [\n",
    "    \"models\",\n",
    "    \"UNetPseudo3DConditionModel\"\n",
    "  ],\n",
    "  \"vae\": [\n",
    "    \"diffusers\",\n",
    "    \"AutoencoderKL\"\n",
    "  ]\n",
    "}"
   ]
  },
  {
   "cell_type": "code",
   "execution_count": null,
   "metadata": {},
   "outputs": [],
   "source": [
    "具体attention blending block在/home/yinzijin/experiments/gaojiayi/FateZero/video_diffusion/pipelines/p2p_ddim_spatial_temporal.py\n",
    "的p2preplace_edit函数中\n",
    "更具体的是/home/yinzijin/experiments/gaojiayi/FateZero/video_diffusion/prompt_attention/attention_util.py make_controller函数     "
   ]
  },
  {
   "cell_type": "code",
   "execution_count": null,
   "metadata": {},
   "outputs": [],
   "source": [
    "去噪步骤在/home/yinzijin/experiments/gaojiayi/FateZero/video_diffusion/pipelines/p2p_ddim_spatial_temporal.py\n",
    "中的 262行 sd_ddim_pipeline函数中"
   ]
  },
  {
   "cell_type": "code",
   "execution_count": null,
   "metadata": {},
   "outputs": [],
   "source": [
    "accelerate launch test_fatezero.py --config config/teaser/jeep_posche_.yaml "
   ]
  },
  {
   "cell_type": "code",
   "execution_count": null,
   "metadata": {},
   "outputs": [],
   "source": [
    "7.21 /FateZero/video_diffusion/pipelines/p2p_ddim_spatial_temporal.py  388行,按照dragondiffusion采取mask部分,留下剩余部分"
   ]
  }
 ],
 "metadata": {
  "language_info": {
   "name": "python"
  }
 },
 "nbformat": 4,
 "nbformat_minor": 2
}
